{
  "nbformat": 4,
  "nbformat_minor": 0,
  "metadata": {
    "colab": {
      "provenance": [],
      "authorship_tag": "ABX9TyP2RvZEO55KiwUiwCW06XbZ",
      "include_colab_link": true
    },
    "kernelspec": {
      "name": "python3",
      "display_name": "Python 3"
    },
    "language_info": {
      "name": "python"
    }
  },
  "cells": [
    {
      "cell_type": "markdown",
      "metadata": {
        "id": "view-in-github",
        "colab_type": "text"
      },
      "source": [
        "<a href=\"https://colab.research.google.com/github/nayalafifi/data-feature/blob/main/Project1_DataFeature.ipynb\" target=\"_parent\"><img src=\"https://colab.research.google.com/assets/colab-badge.svg\" alt=\"Open In Colab\"/></a>"
      ]
    },
    {
      "cell_type": "code",
      "execution_count": 17,
      "metadata": {
        "colab": {
          "base_uri": "https://localhost:8080/"
        },
        "id": "nD_zeYOaoafx",
        "outputId": "0e4767b4-7264-4680-cb20-0076c7998554"
      },
      "outputs": [
        {
          "output_type": "stream",
          "name": "stdout",
          "text": [
            "NEWS_API has been received\n",
            "FORMULA1_API has been received\n"
          ]
        }
      ],
      "source": [
        "from google.colab import userdata\n",
        "import requests\n",
        "\n",
        "NEWS_API = userdata.get('NEWS_API')\n",
        "FORMULA1_API = userdata.get(\"FORMULA1_API\")\n",
        "\n",
        "if NEWS_API:#checking if the keys were retrived for both APIS\n",
        "  print(\"NEWS_API has been received\")\n",
        "else:\n",
        "  print(\"NEWS_API has not been received\")\n",
        "\n",
        "if FORMULA1_API:\n",
        "  print(\"FORMULA1_API has been received\")\n",
        "else:\n",
        "  print(\"FORMULA1_API has not been received\")\n"
      ]
    },
    {
      "cell_type": "code",
      "source": [
        "def get_news_articles(driver_name): #our first function to get news articles based on the driver chosen\n",
        "\n",
        "    url = f\"https://api.thenewsapi.com/v1/news/all?language=en&search={driver_name}&api_token={NEWS_API}\" #construct the api url using the driver's name\n",
        "\n",
        "    response = requests.get(url) #make the request to the api\n",
        "\n",
        "    if response.status_code != 200: #check if the request was successful\n",
        "        print(f\"error: received status code {response.status_code}\") #print an error if status code is not 200\n",
        "        return [] #return an empty list if the request failed\n",
        "\n",
        "    news_data = response.json() #parse the response into json\n",
        "    articles = news_data['data'][:3] #receive the first three articles from the parsed json data\n",
        "\n",
        "    news_list = [] #initialize an empty list to store news\n",
        "    for article in articles: #iterate over each article in the list\n",
        "        news_list.append({ #append the headline and url of each article to the news_list\n",
        "            'headline': article['title'], #extract the article's title\n",
        "            'url': article['url'] #extract the article's url\n",
        "        })\n",
        "    return news_list #return the list of news articles\n",
        "\n",
        "#main function to get news articles about a driver\n",
        "\n",
        "def get_driver_news(): #function to handle user interaction for fetching driver news\n",
        "    driver_name = input(\"please enter the name of the driver: \") #ask the user to input the driver's name\n",
        "\n",
        "    news_articles = get_news_articles(driver_name)#get news articles using the driver's name\n",
        "\n",
        "    if news_articles: #if there are articles in the response\n",
        "        print(f\"top 3 news articles about {driver_name}:\") #print the header message\n",
        "        for i, article in enumerate(news_articles, 1): #loop through and print each article\n",
        "            print(f\"{i}. {article['headline']} - {article['url']}\") #display the article headline and url\n",
        "    else: #if no articles are found\n",
        "        print(f\"no news articles found for {driver_name}.\") #print a message indicating no articles found\n",
        "\n",
        "get_driver_news() #call the main function to initiate the process\n"
      ],
      "metadata": {
        "colab": {
          "base_uri": "https://localhost:8080/"
        },
        "id": "9c1kxj5RQwsg",
        "outputId": "9b593211-a30f-4673-801a-002387f81065"
      },
      "execution_count": 25,
      "outputs": [
        {
          "output_type": "stream",
          "name": "stdout",
          "text": [
            "please enter the name of the driver: Daniel Ricciardo\n",
            "top 3 news articles about Daniel Ricciardo:\n",
            "1. Daniel Ricciardo salutes Zandvoort in the most Daniel Ricciardo way possible - https://www.sbnation.com/formula-one/2024/8/23/24226953/daniel-ricciardo-f1-dutch-grand-prix\n",
            "2. Breaking: Daniel Ricciardo to leave McLaren - https://www.thesouthafrican.com/sport/breaking-daniel-ricciardo-leaves-mclaren-formula-one-latest-f1-news-24-august-2022/\n",
            "3. Daniel Ricciardo focused on F1 Dutch Grand Prix - https://www.abc.net.au/news/2022-09-02/daniel-ricciardo-focused-on-f1-dutch-grand-prix/101393822\n"
          ]
        }
      ]
    }
  ]
}