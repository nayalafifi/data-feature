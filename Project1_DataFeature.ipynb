{
  "nbformat": 4,
  "nbformat_minor": 0,
  "metadata": {
    "colab": {
      "provenance": [],
      "authorship_tag": "ABX9TyOYfCSurBM9kkhRYo8oWo5J",
      "include_colab_link": true
    },
    "kernelspec": {
      "name": "python3",
      "display_name": "Python 3"
    },
    "language_info": {
      "name": "python"
    }
  },
  "cells": [
    {
      "cell_type": "markdown",
      "metadata": {
        "id": "view-in-github",
        "colab_type": "text"
      },
      "source": [
        "<a href=\"https://colab.research.google.com/github/nayalafifi/data-feature/blob/main/Project1_DataFeature.ipynb\" target=\"_parent\"><img src=\"https://colab.research.google.com/assets/colab-badge.svg\" alt=\"Open In Colab\"/></a>"
      ]
    },
    {
      "cell_type": "code",
      "execution_count": null,
      "metadata": {
        "colab": {
          "base_uri": "https://localhost:8080/"
        },
        "id": "nD_zeYOaoafx",
        "outputId": "ce319db1-1bc3-47ff-eb47-4789db666319",
        "collapsed": true
      },
      "outputs": [
        {
          "output_type": "stream",
          "name": "stdout",
          "text": [
            "NEWS_API has been received\n",
            "FORMULA1_API has been received\n"
          ]
        }
      ],
      "source": [
        "from google.colab import userdata\n",
        "import requests\n",
        "\n",
        "NEWS_API = userdata.get('NEWS_API')\n",
        "FORMULA1_API = userdata.get(\"FORMULA1_API\")\n",
        "\n",
        "if NEWS_API:#checking if the keys were retrived for both APIS\n",
        "  print(\"NEWS_API has been received\")\n",
        "else:\n",
        "  print(\"NEWS_API has not been received\")\n",
        "\n",
        "if FORMULA1_API:\n",
        "  print(\"FORMULA1_API has been received\")\n",
        "else:\n",
        "  print(\"FORMULA1_API has not been received\")\n"
      ]
    },
    {
      "cell_type": "code",
      "source": [
        "#function to find the driver id based on the driver's name input by the user\n",
        "def find_driver_id(driver_name):\n",
        "    driver_name_lower = driver_name.lower().strip()#normalize the driver name\n",
        "    current_season = 2024#adjust to the current season\n",
        "    url = f\"https://ergast.com/api/f1/{current_season}/drivers.json\"#url to fetch drivers from current season\n",
        "    response = requests.get(url)#send request to ergast api\n",
        "\n",
        "    if response.status_code != 200:#check if the request was successful\n",
        "        print(f\"error: received status code {response.status_code}\")\n",
        "        return None\n",
        "\n",
        "    driver_data = response.json()\n",
        "    drivers = driver_data['MRData']['DriverTable']['Drivers']\n",
        "\n",
        "    for driver in drivers:#find the driver by name\n",
        "        full_name = f\"{driver['givenName']} {driver['familyName']}\".lower().strip()#normalize the full name\n",
        "        if driver_name_lower == full_name:\n",
        "            return driver['driverId']\n",
        "\n",
        "    return None\n",
        "\n",
        "def get_gp_won(driver_id, season):#function to get the last grand prix won by a driver in the current season\n",
        "\n",
        "    url = f\"https://ergast.com/api/f1/{season}/drivers/{driver_id}/results.json?limit=100\"\n",
        "    response = requests.get(url)#send request to get the race results\n",
        "\n",
        "    if response.status_code != 200:#check if the request was successful\n",
        "        print(f\"error: received status code {response.status_code}\")\n",
        "        return None\n",
        "\n",
        "    race_data = response.json()#parse the data\n",
        "    races = race_data['MRData']['RaceTable']['Races']\n",
        "\n",
        "    for race in reversed(races):#go through races in reverse order, checking for the most recent\n",
        "        for result in race['Results']:#loop over the results\n",
        "            if result['position'] == '1':#check if the driver finished 1st\n",
        "                return {\n",
        "                    'race_name': race['raceName'],#get the race name (the grand prix)\n",
        "                    'location': race['Circuit']['Location']['locality'],#get the location of the grand prix\n",
        "                    'country': race['Circuit']['Location']['country'],#return the country\n",
        "                    'date': race['date']#return date of the race\n",
        "                }\n",
        "\n",
        "    return None\n",
        "\n",
        "def get_news_articles(location):#our function to get the news article based on the location\n",
        "    url = f\"https://api.thenewsapi.com/v1/news/all?language=en&search={location}&api_token={NEWS_API}\"\n",
        "\n",
        "    response = requests.get(url)#send request to thenewsapi\n",
        "\n",
        "    if response.status_code != 200:#check if the request was successful\n",
        "        print(f\"error: received status code {response.status_code}\")\n",
        "        return []\n",
        "\n",
        "    news_data = response.json()\n",
        "    articles = news_data['data'][:3]#get the first three articles\n",
        "\n",
        "    news_list = []#store the articles and headlines in an arrary\n",
        "    for article in articles:\n",
        "        news_list.append({\n",
        "            'headline': article['title'],#get the headline from article\n",
        "            'url': article['url']#get the url from article\n",
        "        })\n",
        "    return news_list\n",
        "\n",
        "def last_gp_won_news_article():#our main function\n",
        "    driver_name = input(\"please enter the name of the driver: \")\n",
        "    driver_id = find_driver_id(driver_name)#get the driver id based on the given name\n",
        "\n",
        "    if driver_id:\n",
        "        current_season = 2024\n",
        "        last_race = get_gp_won(driver_id, current_season)#get the last gp won\n",
        "\n",
        "        if last_race:\n",
        "            print(f\"{driver_name} last won the {last_race['race_name']} on {last_race['date']} in {last_race['location']}, {last_race['country']}.\")\n",
        "\n",
        "            news_articles = get_news_articles(last_race['location'])#get the news article based on the location\n",
        "\n",
        "            if news_articles:\n",
        "                print(f\"Below are 3 news articles about {last_race['location']}:\")#print of the articles and the headers\n",
        "                for i, article in enumerate(news_articles, 1):\n",
        "                    print(f\"{i}. {article['headline']} - {article['url']}\")\n",
        "            else:\n",
        "                print(f\"no news articles found for {last_race['location']}.\")#else statements to check for error/missing drivers\n",
        "        else:\n",
        "            print(f\"{driver_name} has not won any grand prix in {current_season}.\")\n",
        "    else:\n",
        "        print(f\"driver '{driver_name}' not found.\")\n",
        "\n",
        "\n",
        "last_gp_won_news_article()#run the main function\n",
        "\n",
        "\n"
      ],
      "metadata": {
        "colab": {
          "base_uri": "https://localhost:8080/"
        },
        "id": "9c1kxj5RQwsg",
        "outputId": "b1d33a0c-5b6c-4511-eafc-674346dd6207",
        "collapsed": true
      },
      "execution_count": null,
      "outputs": [
        {
          "output_type": "stream",
          "name": "stdout",
          "text": [
            "please enter the name of the driver: charles leclerc\n",
            "charles leclerc last won the Italian Grand Prix on 2024-09-01 in Monza, Italy.\n",
            "Below are 3 news articles about Monza:\n",
            "1. Silvio Berlusconi’s Monza fires Stroppa as coach - https://www.winnipegfreepress.com/sports/soccer/2022/09/13/silvio-berlusconis-monza-fires-stroppa-as-coach\n",
            "2. Juventus sign goalkeeper Di Gregorio from Monza - https://www.straitstimes.com/sport/football/juventus-sign-goalkeeper-di-gregorio-from-monza\n",
            "3. Jehan Daruvala finishes third in F2 sprint race in Italy’s Monza Monza - https://indianexpress.com/article/sports/motor-sport/jehan-daruvala-finishes-third-in-f2-sprint-race-in-italys-monza-monza-8144220/\n"
          ]
        }
      ]
    }
  ]
}